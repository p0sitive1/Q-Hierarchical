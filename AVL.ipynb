{
  "nbformat": 4,
  "nbformat_minor": 0,
  "metadata": {
    "colab": {
      "provenance": [],
      "collapsed_sections": []
    },
    "kernelspec": {
      "name": "python3",
      "display_name": "Python 3"
    },
    "language_info": {
      "name": "python"
    }
  },
  "cells": [
    {
      "cell_type": "markdown",
      "source": [
        "我们假设：\n",
        "1. 包可以知道自己的起点，终点，和一个AVL中转组\n",
        "2. 给定两个点，可以知道其最短路径\n",
        "3. 包可以知道自己是否已经经过了中转组\n"
      ],
      "metadata": {
        "id": "iZFwC4GVsJc0"
      }
    },
    {
      "cell_type": "code",
      "execution_count": null,
      "metadata": {
        "id": "4Pai24mZsEP7"
      },
      "outputs": [],
      "source": [
        "def decision(curr, dst, pak):\n",
        "  if curr == pak.src:\n",
        "    pak.AVL_rely = rand_group\n",
        "    pak.flag = 0\n",
        "  if curr in AVL_rely:\n",
        "    pak.flag = 1\n",
        "  if pak.flag == 0:\n",
        "      next = short(curr, argmin(short(curr, i in pak.AVL_rely)))\n",
        "  else:\n",
        "    next = short(curr,dst)\n",
        "  "
      ]
    }
  ]
}