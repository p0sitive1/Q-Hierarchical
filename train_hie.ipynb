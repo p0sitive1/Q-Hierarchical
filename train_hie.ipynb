{
 "cells": [
  {
   "cell_type": "code",
   "execution_count": 15,
   "metadata": {},
   "outputs": [],
   "source": [
    "from ast import Interactive\n",
    "from sympy import Q\n",
    "from builtins import list\n",
    "from locale import normalize\n",
    "from re import S, X\n",
    "from cProfile import label, run\n",
    "import pickle\n",
    "from bs4 import ResultSet\n",
    "import numpy as np\n",
    "from matplotlib import pyplot as plt\n",
    "from env import *\n",
    "from tqdm import tqdm\n",
    "from hierarch_alt import *"
   ]
  },
  {
   "cell_type": "code",
   "execution_count": 16,
   "metadata": {},
   "outputs": [],
   "source": [
    "def read_from_file(filename):\n",
    "    f = open(filename, \"r\")\n",
    "    adj = list()\n",
    "    lines = f.readlines()\n",
    "    for line in lines:\n",
    "        line = line[1:-2]\n",
    "        line = line.split(\", \")\n",
    "        temp = list()\n",
    "        for item in line:\n",
    "            item = float(item)\n",
    "            temp.append(item)\n",
    "        adj.append(temp)\n",
    "    f.close()\n",
    "\n",
    "    return adj\n",
    "\n",
    "adj = read_from_file(\"/home/rm2022/topo.txt\")"
   ]
  },
  {
   "cell_type": "code",
   "execution_count": 17,
   "metadata": {},
   "outputs": [],
   "source": [
    "network = Network(adj, group_num=33, drop=True)\n",
    "\n",
    "duration = 10000\n",
    "slot = 1\n",
    "loads = np.arange(20, 100, 2.5)"
   ]
  },
  {
   "cell_type": "markdown",
   "metadata": {},
   "source": [
    "## Training"
   ]
  },
  {
   "cell_type": "code",
   "execution_count": 18,
   "metadata": {},
   "outputs": [
    {
     "name": "stderr",
     "output_type": "stream",
     "text": [
      "  0%|          | 0/10000 [00:00<?, ?it/s]\n"
     ]
    },
    {
     "ename": "TypeError",
     "evalue": "choose() takes 3 positional arguments but 4 were given",
     "output_type": "error",
     "traceback": [
      "\u001b[0;31m---------------------------------------------------------------------------\u001b[0m",
      "\u001b[0;31mTypeError\u001b[0m                                 Traceback (most recent call last)",
      "\u001b[1;32m/home/rm2022/DQN_routing/DRL/train_hie.ipynb Cell 5\u001b[0m in \u001b[0;36m<cell line: 5>\u001b[0;34m()\u001b[0m\n\u001b[1;32m      <a href='vscode-notebook-cell://ssh-remote%2B10.20.9.231/home/rm2022/DQN_routing/DRL/train_hie.ipynb#W4sdnNjb2RlLXJlbW90ZQ%3D%3D?line=1'>2</a>\u001b[0m network\u001b[39m.\u001b[39mbind(agent)\n\u001b[1;32m      <a href='vscode-notebook-cell://ssh-remote%2B10.20.9.231/home/rm2022/DQN_routing/DRL/train_hie.ipynb#W4sdnNjb2RlLXJlbW90ZQ%3D%3D?line=2'>3</a>\u001b[0m network\u001b[39m.\u001b[39mreset()\n\u001b[0;32m----> <a href='vscode-notebook-cell://ssh-remote%2B10.20.9.231/home/rm2022/DQN_routing/DRL/train_hie.ipynb#W4sdnNjb2RlLXJlbW90ZQ%3D%3D?line=4'>5</a>\u001b[0m result \u001b[39m=\u001b[39m network\u001b[39m.\u001b[39;49mtrain(duration\u001b[39m=\u001b[39;49m\u001b[39m10000\u001b[39;49m, slot\u001b[39m=\u001b[39;49m\u001b[39m1\u001b[39;49m, freq\u001b[39m=\u001b[39;49m\u001b[39m1\u001b[39;49m, lambd\u001b[39m=\u001b[39;49m\u001b[39m50\u001b[39;49m, adv\u001b[39m=\u001b[39;49m\u001b[39m4\u001b[39;49m)\n\u001b[1;32m      <a href='vscode-notebook-cell://ssh-remote%2B10.20.9.231/home/rm2022/DQN_routing/DRL/train_hie.ipynb#W4sdnNjb2RlLXJlbW90ZQ%3D%3D?line=5'>6</a>\u001b[0m network\u001b[39m.\u001b[39magent\u001b[39m.\u001b[39mstore(\u001b[39mf\u001b[39m\u001b[39m\"\u001b[39m\u001b[39m/home/rm2022/DQN_routing/DRL/hielargeadv4_alt.pkl\u001b[39m\u001b[39m\"\u001b[39m)\n\u001b[1;32m      <a href='vscode-notebook-cell://ssh-remote%2B10.20.9.231/home/rm2022/DQN_routing/DRL/train_hie.ipynb#W4sdnNjb2RlLXJlbW90ZQ%3D%3D?line=7'>8</a>\u001b[0m agent \u001b[39m=\u001b[39m Hierarch(network)\n",
      "File \u001b[0;32m~/DQN_routing/DRL/env.py:434\u001b[0m, in \u001b[0;36mNetwork.train\u001b[0;34m(self, duration, lambd, slot, freq, lr, hop, drop, pre, arrive, inject, adv)\u001b[0m\n\u001b[1;32m    432\u001b[0m     \u001b[39mself\u001b[39m\u001b[39m.\u001b[39minject(packets)\n\u001b[1;32m    433\u001b[0m \u001b[39mfor\u001b[39;00m _ \u001b[39min\u001b[39;00m \u001b[39mrange\u001b[39m(freq):\n\u001b[0;32m--> 434\u001b[0m     r \u001b[39m=\u001b[39m \u001b[39mself\u001b[39;49m\u001b[39m.\u001b[39;49mstep(slot, pre\u001b[39m=\u001b[39;49mpre)\n\u001b[1;32m    435\u001b[0m     \u001b[39mif\u001b[39;00m r:\n\u001b[1;32m    436\u001b[0m         \u001b[39mself\u001b[39m\u001b[39m.\u001b[39magent\u001b[39m.\u001b[39mlearn(r)\n",
      "File \u001b[0;32m~/DQN_routing/DRL/env.py:388\u001b[0m, in \u001b[0;36mNetwork.step\u001b[0;34m(self, duration, pre)\u001b[0m\n\u001b[1;32m    386\u001b[0m rewards \u001b[39m=\u001b[39m []\n\u001b[1;32m    387\u001b[0m \u001b[39mfor\u001b[39;00m node \u001b[39min\u001b[39;00m \u001b[39mself\u001b[39m\u001b[39m.\u001b[39mnodes\u001b[39m.\u001b[39mvalues():\n\u001b[0;32m--> 388\u001b[0m     event \u001b[39m=\u001b[39m node\u001b[39m.\u001b[39;49msend(pre\u001b[39m=\u001b[39;49mpre)\n\u001b[1;32m    389\u001b[0m     \u001b[39mif\u001b[39;00m event:\n\u001b[1;32m    390\u001b[0m         rewards \u001b[39m+\u001b[39m\u001b[39m=\u001b[39m event\n",
      "File \u001b[0;32m~/DQN_routing/DRL/env.py:147\u001b[0m, in \u001b[0;36mNode.send\u001b[0;34m(self, pre)\u001b[0m\n\u001b[1;32m    145\u001b[0m     action \u001b[39m=\u001b[39m \u001b[39mself\u001b[39m\u001b[39m.\u001b[39magent\u001b[39m.\u001b[39mchoose(\u001b[39mself\u001b[39m\u001b[39m.\u001b[39msend_info, \u001b[39mself\u001b[39m\u001b[39m.\u001b[39mID, dest)\n\u001b[1;32m    146\u001b[0m \u001b[39melse\u001b[39;00m:\n\u001b[0;32m--> 147\u001b[0m     action \u001b[39m=\u001b[39m \u001b[39mself\u001b[39;49m\u001b[39m.\u001b[39;49magent\u001b[39m.\u001b[39;49mchoose(\u001b[39mself\u001b[39;49m\u001b[39m.\u001b[39;49mID, dest, packet\u001b[39m=\u001b[39;49mpacket)  \u001b[39m# choose queue\u001b[39;00m\n\u001b[1;32m    148\u001b[0m packet\u001b[39m.\u001b[39mpath\u001b[39m.\u001b[39mappend(action)\n\u001b[1;32m    149\u001b[0m \u001b[39mif\u001b[39;00m action \u001b[39min\u001b[39;00m \u001b[39mself\u001b[39m\u001b[39m.\u001b[39moutQueuesInter:\n",
      "File \u001b[0;32m~/DQN_routing/DRL/hierarch_alt.py:98\u001b[0m, in \u001b[0;36mHierarch.choose\u001b[0;34m(self, source, dest, packet)\u001b[0m\n\u001b[1;32m     94\u001b[0m     \u001b[39m# go shortest\u001b[39;00m\n\u001b[1;32m     95\u001b[0m     \u001b[39m# return self.fshortest.choose(source, dest, packet)\u001b[39;00m\n\u001b[1;32m     96\u001b[0m \u001b[39melse\u001b[39;00m:\n\u001b[1;32m     97\u001b[0m     \u001b[39mif\u001b[39;00m \u001b[39mself\u001b[39m\u001b[39m.\u001b[39mpre \u001b[39mand\u001b[39;00m \u001b[39mnot\u001b[39;00m \u001b[39mself\u001b[39m\u001b[39m.\u001b[39mstatic:\n\u001b[0;32m---> 98\u001b[0m         \u001b[39mreturn\u001b[39;00m \u001b[39mself\u001b[39;49m\u001b[39m.\u001b[39;49mglobalr\u001b[39m.\u001b[39;49mchoose(source, dest, packet)\n\u001b[1;32m     99\u001b[0m     \u001b[39m# greedy\u001b[39;00m\n\u001b[1;32m    100\u001b[0m     \u001b[39m# whether the current group is the dest group\u001b[39;00m\n\u001b[1;32m    101\u001b[0m     \u001b[39mif\u001b[39;00m \u001b[39mself\u001b[39m\u001b[39m.\u001b[39mnetwork\u001b[39m.\u001b[39mnodes[packet\u001b[39m.\u001b[39mdest]\u001b[39m.\u001b[39mgroup \u001b[39m==\u001b[39m \u001b[39mself\u001b[39m\u001b[39m.\u001b[39mnetwork\u001b[39m.\u001b[39mnodes[source]\u001b[39m.\u001b[39mgroup:\n\u001b[1;32m    102\u001b[0m         \u001b[39m# check bottom of the intable\u001b[39;00m\n\u001b[1;32m    103\u001b[0m         \u001b[39m# find line\u001b[39;00m\n",
      "\u001b[0;31mTypeError\u001b[0m: choose() takes 3 positional arguments but 4 were given"
     ]
    }
   ],
   "source": [
    "agent = Hierarch(network, pre=True)\n",
    "network.bind(agent)\n",
    "network.reset()\n",
    "\n",
    "result = network.train(duration=10000, slot=1, freq=1, lambd=50, adv=4)\n",
    "network.agent.store(f\"/home/rm2022/DQN_routing/DRL/hielargeadv4_alt.pkl\")\n",
    "\n",
    "agent = Hierarch(network)\n",
    "network.bind(agent)\n",
    "network.reset()\n",
    "\n",
    "network.agent.load(f\"/home/rm2022/DQN_routing/DRL/hielargeadv4_alt.pkl\")\n",
    "# for i in list(network.agent.inTable[9].items()):\n",
    "#     print(i)\n",
    "# for j in list(network.agent.outTable[2].items()):\n",
    "#     print(j)\n",
    "result = network.train(duration=100000, slot=1, freq=1, lambd=50, adv=4)\n",
    "network.agent.store(f\"/home/rm2022/DQN_routing/DRL/hielargeadv4.pkl\")\n",
    "# for i in range(50):\n",
    "#     network.reset()\n",
    "#     network.agent.load(f\"/home/rm2022/DQN_routing/DRL/hielargeadv_alt.pkl\")\n",
    "#     result = network.train(duration=1000, slot=1, freq=1, lambd=80, adv=1)\n",
    "#     network.agent.store(f\"/home/rm2022/DQN_routing/DRL/hielargeadv_alt.pkl\")\n",
    "\n",
    "agent = Hierarch(network, static=True)\n",
    "network.bind(agent)\n",
    "network.reset()\n",
    "\n",
    "np.set_printoptions(suppress=True)\n",
    "network.agent.load(f\"/home/rm2022/DQN_routing/DRL/hielargeadv4.pkl\")\n",
    "\n",
    "for i in list(network.agent.inTable[9].items()):\n",
    "    print(i)\n",
    "for j in list(network.agent.outTable[2].items()):\n",
    "    print(j)\n",
    "result = network.train(duration=10000, slot=1, freq=1, lambd=50, adv=4)\n",
    "ps = network.stored_packets\n",
    "for p in ps[-30:]:\n",
    "    print(p, p.path)\n",
    "print(result['route_time'][-1])\n",
    "plt.plot(result['route_time'])\n",
    "plt.savefig(f\"/home/rm2022/DQN_routing/DRL/hie1.png\")\n",
    "plt.close()"
   ]
  },
  {
   "cell_type": "markdown",
   "metadata": {},
   "source": [
    "## Testing"
   ]
  },
  {
   "cell_type": "code",
   "execution_count": null,
   "metadata": {},
   "outputs": [
    {
     "name": "stderr",
     "output_type": "stream",
     "text": [
      "100%|██████████| 10000/10000 [00:32<00:00, 304.25it/s]\n"
     ]
    },
    {
     "name": "stdout",
     "output_type": "stream",
     "text": [
      "load 20.0 complete with result 4.451098442644656\n"
     ]
    },
    {
     "name": "stderr",
     "output_type": "stream",
     "text": [
      "100%|██████████| 10000/10000 [00:38<00:00, 262.99it/s]\n"
     ]
    },
    {
     "name": "stdout",
     "output_type": "stream",
     "text": [
      "load 22.5 complete with result 4.5763858916915465\n"
     ]
    },
    {
     "name": "stderr",
     "output_type": "stream",
     "text": [
      "100%|██████████| 10000/10000 [00:42<00:00, 234.87it/s]\n"
     ]
    },
    {
     "name": "stdout",
     "output_type": "stream",
     "text": [
      "load 25.0 complete with result 4.708077316948285\n"
     ]
    },
    {
     "name": "stderr",
     "output_type": "stream",
     "text": [
      "100%|██████████| 10000/10000 [00:46<00:00, 214.81it/s]\n"
     ]
    },
    {
     "name": "stdout",
     "output_type": "stream",
     "text": [
      "load 27.5 complete with result 4.872539248352224\n"
     ]
    },
    {
     "name": "stderr",
     "output_type": "stream",
     "text": [
      "100%|██████████| 10000/10000 [00:52<00:00, 188.94it/s]\n"
     ]
    },
    {
     "name": "stdout",
     "output_type": "stream",
     "text": [
      "load 30.0 complete with result 5.048160032086634\n"
     ]
    },
    {
     "name": "stderr",
     "output_type": "stream",
     "text": [
      "100%|██████████| 10000/10000 [00:54<00:00, 181.93it/s]\n"
     ]
    },
    {
     "name": "stdout",
     "output_type": "stream",
     "text": [
      "load 32.5 complete with result 5.242552784235273\n"
     ]
    },
    {
     "name": "stderr",
     "output_type": "stream",
     "text": [
      "100%|██████████| 10000/10000 [01:03<00:00, 157.05it/s]\n"
     ]
    },
    {
     "name": "stdout",
     "output_type": "stream",
     "text": [
      "load 35.0 complete with result 5.498997761715353\n"
     ]
    },
    {
     "name": "stderr",
     "output_type": "stream",
     "text": [
      "100%|██████████| 10000/10000 [01:10<00:00, 142.26it/s]\n"
     ]
    },
    {
     "name": "stdout",
     "output_type": "stream",
     "text": [
      "load 37.5 complete with result 5.766926736137035\n"
     ]
    },
    {
     "name": "stderr",
     "output_type": "stream",
     "text": [
      "100%|██████████| 10000/10000 [01:15<00:00, 132.95it/s]\n"
     ]
    },
    {
     "name": "stdout",
     "output_type": "stream",
     "text": [
      "load 40.0 complete with result 6.104085661452347\n"
     ]
    },
    {
     "name": "stderr",
     "output_type": "stream",
     "text": [
      "100%|██████████| 10000/10000 [01:19<00:00, 125.79it/s]\n"
     ]
    },
    {
     "name": "stdout",
     "output_type": "stream",
     "text": [
      "load 42.5 complete with result 6.458670575489134\n"
     ]
    },
    {
     "name": "stderr",
     "output_type": "stream",
     "text": [
      "100%|██████████| 10000/10000 [01:22<00:00, 120.74it/s]\n"
     ]
    },
    {
     "name": "stdout",
     "output_type": "stream",
     "text": [
      "load 45.0 complete with result 6.924860613833521\n"
     ]
    },
    {
     "name": "stderr",
     "output_type": "stream",
     "text": [
      "100%|██████████| 10000/10000 [01:29<00:00, 112.10it/s]\n"
     ]
    },
    {
     "name": "stdout",
     "output_type": "stream",
     "text": [
      "load 47.5 complete with result 7.526673590585717\n"
     ]
    },
    {
     "name": "stderr",
     "output_type": "stream",
     "text": [
      "100%|██████████| 10000/10000 [01:34<00:00, 105.89it/s]\n"
     ]
    },
    {
     "name": "stdout",
     "output_type": "stream",
     "text": [
      "load 50.0 complete with result 8.31007116092131\n"
     ]
    },
    {
     "name": "stderr",
     "output_type": "stream",
     "text": [
      "100%|██████████| 10000/10000 [01:39<00:00, 100.50it/s]\n"
     ]
    },
    {
     "name": "stdout",
     "output_type": "stream",
     "text": [
      "load 52.5 complete with result 9.385724776087601\n"
     ]
    },
    {
     "name": "stderr",
     "output_type": "stream",
     "text": [
      "100%|██████████| 10000/10000 [01:47<00:00, 93.42it/s]\n"
     ]
    },
    {
     "name": "stdout",
     "output_type": "stream",
     "text": [
      "load 55.0 complete with result 10.939956929060163\n"
     ]
    },
    {
     "name": "stderr",
     "output_type": "stream",
     "text": [
      "100%|██████████| 10000/10000 [01:54<00:00, 87.53it/s]\n"
     ]
    },
    {
     "name": "stdout",
     "output_type": "stream",
     "text": [
      "load 57.5 complete with result 13.486128722114621\n"
     ]
    },
    {
     "name": "stderr",
     "output_type": "stream",
     "text": [
      "100%|██████████| 10000/10000 [01:56<00:00, 85.64it/s]\n"
     ]
    },
    {
     "name": "stdout",
     "output_type": "stream",
     "text": [
      "load 60.0 complete with result 19.682024662564594\n"
     ]
    },
    {
     "name": "stderr",
     "output_type": "stream",
     "text": [
      "100%|██████████| 10000/10000 [02:04<00:00, 80.52it/s]\n"
     ]
    },
    {
     "name": "stdout",
     "output_type": "stream",
     "text": [
      "load 62.5 complete with result 42.03654283083581\n"
     ]
    },
    {
     "name": "stderr",
     "output_type": "stream",
     "text": [
      "100%|██████████| 10000/10000 [02:11<00:00, 75.90it/s]\n"
     ]
    },
    {
     "name": "stdout",
     "output_type": "stream",
     "text": [
      "load 65.0 complete with result 103.62253825213556\n"
     ]
    },
    {
     "name": "stderr",
     "output_type": "stream",
     "text": [
      "100%|██████████| 10000/10000 [02:20<00:00, 71.18it/s]\n"
     ]
    },
    {
     "name": "stdout",
     "output_type": "stream",
     "text": [
      "load 67.5 complete with result 192.37494510439026\n"
     ]
    },
    {
     "name": "stderr",
     "output_type": "stream",
     "text": [
      "100%|██████████| 10000/10000 [02:26<00:00, 68.36it/s]\n"
     ]
    },
    {
     "name": "stdout",
     "output_type": "stream",
     "text": [
      "load 70.0 complete with result 327.0991439534066\n"
     ]
    },
    {
     "name": "stderr",
     "output_type": "stream",
     "text": [
      "100%|██████████| 10000/10000 [02:24<00:00, 68.98it/s]\n"
     ]
    },
    {
     "name": "stdout",
     "output_type": "stream",
     "text": [
      "load 72.5 complete with result 465.32691301688783\n"
     ]
    },
    {
     "name": "stderr",
     "output_type": "stream",
     "text": [
      "100%|██████████| 10000/10000 [02:24<00:00, 69.01it/s]\n"
     ]
    },
    {
     "name": "stdout",
     "output_type": "stream",
     "text": [
      "load 75.0 complete with result 615.3395279215631\n"
     ]
    },
    {
     "name": "stderr",
     "output_type": "stream",
     "text": [
      "100%|██████████| 10000/10000 [02:30<00:00, 66.53it/s]\n"
     ]
    },
    {
     "name": "stdout",
     "output_type": "stream",
     "text": [
      "load 77.5 complete with result 788.9151346805244\n"
     ]
    },
    {
     "name": "stderr",
     "output_type": "stream",
     "text": [
      "100%|██████████| 10000/10000 [02:28<00:00, 67.27it/s]\n"
     ]
    },
    {
     "name": "stdout",
     "output_type": "stream",
     "text": [
      "load 80.0 complete with result 962.7186612937513\n"
     ]
    },
    {
     "name": "stderr",
     "output_type": "stream",
     "text": [
      "100%|██████████| 10000/10000 [02:23<00:00, 69.52it/s]\n"
     ]
    },
    {
     "name": "stdout",
     "output_type": "stream",
     "text": [
      "load 82.5 complete with result 1127.9515254500088\n"
     ]
    },
    {
     "name": "stderr",
     "output_type": "stream",
     "text": [
      "100%|██████████| 10000/10000 [02:27<00:00, 67.96it/s]\n"
     ]
    },
    {
     "name": "stdout",
     "output_type": "stream",
     "text": [
      "load 85.0 complete with result 1289.4049242241615\n"
     ]
    },
    {
     "name": "stderr",
     "output_type": "stream",
     "text": [
      "100%|██████████| 10000/10000 [02:36<00:00, 63.95it/s]\n"
     ]
    },
    {
     "name": "stdout",
     "output_type": "stream",
     "text": [
      "load 87.5 complete with result 1440.928449046727\n"
     ]
    },
    {
     "name": "stderr",
     "output_type": "stream",
     "text": [
      "100%|██████████| 10000/10000 [02:38<00:00, 63.01it/s]\n"
     ]
    },
    {
     "name": "stdout",
     "output_type": "stream",
     "text": [
      "load 90.0 complete with result 1590.187660455212\n"
     ]
    },
    {
     "name": "stderr",
     "output_type": "stream",
     "text": [
      "100%|██████████| 10000/10000 [02:43<00:00, 61.02it/s]\n"
     ]
    },
    {
     "name": "stdout",
     "output_type": "stream",
     "text": [
      "load 92.5 complete with result 1733.148156331486\n"
     ]
    },
    {
     "name": "stderr",
     "output_type": "stream",
     "text": [
      "100%|██████████| 10000/10000 [02:36<00:00, 63.78it/s]\n"
     ]
    },
    {
     "name": "stdout",
     "output_type": "stream",
     "text": [
      "load 95.0 complete with result 1864.3000324159116\n"
     ]
    },
    {
     "name": "stderr",
     "output_type": "stream",
     "text": [
      "100%|██████████| 10000/10000 [02:30<00:00, 66.29it/s]"
     ]
    },
    {
     "name": "stdout",
     "output_type": "stream",
     "text": [
      "load 97.5 complete with result 1977.6730929156097\n"
     ]
    },
    {
     "name": "stderr",
     "output_type": "stream",
     "text": [
      "\n"
     ]
    }
   ],
   "source": [
    "agent = Hierarch(network, static=True)\n",
    "network.bind(agent)\n",
    "network.reset()\n",
    "\n",
    "hierarch_res = list()\n",
    "# loads = np.arange(0.25, 7.25, 0.25)\n",
    "for load in loads:\n",
    "    run_res = list()\n",
    "    for i in range(1):\n",
    "        network.reset()\n",
    "        network.agent.load(f\"/home/rm2022/DQN_routing/DRL/hielargeadv4.pkl\")\n",
    "        result = network.train(duration=10000, slot=1, freq=1, lambd=load, inject=True, adv=4)\n",
    "        print(f\"load {load} complete with result {result['route_time'][-1]}\")\n",
    "        run_res.append(result['route_time'][-1])\n",
    "    hierarch_res.append(np.min(run_res))\n",
    "\n",
    "#     # line 1 - uniform\n",
    "f = open(\"/home/rm2022/DQN_routing/DRL/hie.txt\", \"a\")\n",
    "f.write(repr(hierarch_res))\n",
    "f.close()"
   ]
  }
 ],
 "metadata": {
  "kernelspec": {
   "display_name": "Python 3.9.12 ('base': conda)",
   "language": "python",
   "name": "python3"
  },
  "language_info": {
   "codemirror_mode": {
    "name": "ipython",
    "version": 3
   },
   "file_extension": ".py",
   "mimetype": "text/x-python",
   "name": "python",
   "nbconvert_exporter": "python",
   "pygments_lexer": "ipython3",
   "version": "3.9.12"
  },
  "orig_nbformat": 4,
  "vscode": {
   "interpreter": {
    "hash": "8487fdd5ee45d7bd156b416c23813f689a163ed52aca02809260cab954204ce1"
   }
  }
 },
 "nbformat": 4,
 "nbformat_minor": 2
}
